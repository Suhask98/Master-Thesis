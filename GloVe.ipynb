{
 "cells": [
  {
   "cell_type": "code",
   "execution_count": 1,
   "metadata": {},
   "outputs": [
    {
     "name": "stderr",
     "output_type": "stream",
     "text": [
      "2023-12-04 10:51:43.249846: I tensorflow/core/platform/cpu_feature_guard.cc:182] This TensorFlow binary is optimized to use available CPU instructions in performance-critical operations.\n",
      "To enable the following instructions: AVX2 FMA, in other operations, rebuild TensorFlow with the appropriate compiler flags.\n"
     ]
    }
   ],
   "source": [
    "import pandas as pd\n",
    "import numpy as np\n",
    "import matplotlib.pyplot as plt\n",
    "import seaborn as sns\n",
    "import os\n",
    "import nltk\n",
    "import calendar\n",
    "import time\n",
    "import tensorflow as tf\n",
    "import gensim\n",
    "\n",
    "from sklearn import metrics\n",
    "from sklearn.metrics import f1_score, hamming_loss, confusion_matrix\n",
    "from sklearn.pipeline import Pipeline\n",
    "from sklearn.ensemble import RandomForestClassifier\n",
    "from sklearn.model_selection import train_test_split\n",
    "from sklearn.linear_model import LogisticRegression"
   ]
  },
  {
   "cell_type": "code",
   "execution_count": 2,
   "metadata": {},
   "outputs": [
    {
     "data": {
      "text/html": [
       "<div>\n",
       "<style scoped>\n",
       "    .dataframe tbody tr th:only-of-type {\n",
       "        vertical-align: middle;\n",
       "    }\n",
       "\n",
       "    .dataframe tbody tr th {\n",
       "        vertical-align: top;\n",
       "    }\n",
       "\n",
       "    .dataframe thead th {\n",
       "        text-align: right;\n",
       "    }\n",
       "</style>\n",
       "<table border=\"1\" class=\"dataframe\">\n",
       "  <thead>\n",
       "    <tr style=\"text-align: right;\">\n",
       "      <th></th>\n",
       "      <th>Review ID</th>\n",
       "      <th>Reviews Content</th>\n",
       "      <th>Converted English</th>\n",
       "      <th>Rating</th>\n",
       "      <th>Start Date</th>\n",
       "      <th>Version</th>\n",
       "      <th>Platform</th>\n",
       "      <th>Source</th>\n",
       "      <th>Month</th>\n",
       "      <th>Predicted Team</th>\n",
       "    </tr>\n",
       "  </thead>\n",
       "  <tbody>\n",
       "    <tr>\n",
       "      <th>0</th>\n",
       "      <td>158994127</td>\n",
       "      <td>Keine vernünftige Struktur wie bei Web Version...</td>\n",
       "      <td>Not a reasonable structure as with web version...</td>\n",
       "      <td>1</td>\n",
       "      <td>21.10.2022</td>\n",
       "      <td>NaN</td>\n",
       "      <td>Android</td>\n",
       "      <td>EasyFeedback</td>\n",
       "      <td>September</td>\n",
       "      <td>People/Homepage</td>\n",
       "    </tr>\n",
       "    <tr>\n",
       "      <th>1</th>\n",
       "      <td>158999921</td>\n",
       "      <td>Ich finde vorher war übersicht besser.</td>\n",
       "      <td>I think before was overview better.</td>\n",
       "      <td>2</td>\n",
       "      <td>21.10.2022</td>\n",
       "      <td>NaN</td>\n",
       "      <td>Android</td>\n",
       "      <td>EasyFeedback</td>\n",
       "      <td>September</td>\n",
       "      <td>Design System</td>\n",
       "    </tr>\n",
       "    <tr>\n",
       "      <th>2</th>\n",
       "      <td>159009543</td>\n",
       "      <td>Teilweise mühsame Navigation</td>\n",
       "      <td>Partly tedious navigation</td>\n",
       "      <td>3</td>\n",
       "      <td>22.10.2022</td>\n",
       "      <td>NaN</td>\n",
       "      <td>Android</td>\n",
       "      <td>EasyFeedback</td>\n",
       "      <td>September</td>\n",
       "      <td>General</td>\n",
       "    </tr>\n",
       "    <tr>\n",
       "      <th>3</th>\n",
       "      <td>159010950</td>\n",
       "      <td>Unpraktische Bedienung</td>\n",
       "      <td>Impractical operation</td>\n",
       "      <td>2</td>\n",
       "      <td>22.10.2022</td>\n",
       "      <td>NaN</td>\n",
       "      <td>Android</td>\n",
       "      <td>EasyFeedback</td>\n",
       "      <td>September</td>\n",
       "      <td>General</td>\n",
       "    </tr>\n",
       "    <tr>\n",
       "      <th>4</th>\n",
       "      <td>159033855</td>\n",
       "      <td>Mich stört, dass laufend irgendwelche Besucher...</td>\n",
       "      <td>It bothers me that some visitors can constantl...</td>\n",
       "      <td>2</td>\n",
       "      <td>22.10.2022</td>\n",
       "      <td>NaN</td>\n",
       "      <td>Android</td>\n",
       "      <td>EasyFeedback</td>\n",
       "      <td>September</td>\n",
       "      <td>Profile</td>\n",
       "    </tr>\n",
       "    <tr>\n",
       "      <th>...</th>\n",
       "      <td>...</td>\n",
       "      <td>...</td>\n",
       "      <td>...</td>\n",
       "      <td>...</td>\n",
       "      <td>...</td>\n",
       "      <td>...</td>\n",
       "      <td>...</td>\n",
       "      <td>...</td>\n",
       "      <td>...</td>\n",
       "      <td>...</td>\n",
       "    </tr>\n",
       "    <tr>\n",
       "      <th>1788</th>\n",
       "      <td>169331349</td>\n",
       "      <td>Viel zu teuer - möchte kündigen - keine Option...</td>\n",
       "      <td>Way too expensive - want to cancel - no option...</td>\n",
       "      <td>3</td>\n",
       "      <td>25.03.2023 | 12:43</td>\n",
       "      <td>NaN</td>\n",
       "      <td>iOS</td>\n",
       "      <td>EasyFeedback</td>\n",
       "      <td>March</td>\n",
       "      <td>CPAY</td>\n",
       "    </tr>\n",
       "    <tr>\n",
       "      <th>1789</th>\n",
       "      <td>170340338</td>\n",
       "      <td>Zu teuer, zu viel Werbung.</td>\n",
       "      <td>Too expensive, too much advertising.</td>\n",
       "      <td>2</td>\n",
       "      <td>08.04.2023 | 08:33</td>\n",
       "      <td>NaN</td>\n",
       "      <td>Android</td>\n",
       "      <td>EasyFeedback</td>\n",
       "      <td>April</td>\n",
       "      <td>CPAY</td>\n",
       "    </tr>\n",
       "    <tr>\n",
       "      <th>1790</th>\n",
       "      <td>171527475</td>\n",
       "      <td>Kosten</td>\n",
       "      <td>Cost</td>\n",
       "      <td>3</td>\n",
       "      <td>25.04.2023 | 19:23</td>\n",
       "      <td>NaN</td>\n",
       "      <td>Android</td>\n",
       "      <td>EasyFeedback</td>\n",
       "      <td>April</td>\n",
       "      <td>CPAY</td>\n",
       "    </tr>\n",
       "    <tr>\n",
       "      <th>1791</th>\n",
       "      <td>a03f98f6-bb97-4e90-8885-de666236e05e</td>\n",
       "      <td>Einfach unverschämt diese App. Geld für ein Ja...</td>\n",
       "      <td>Simply outrageous this app. Pull out money for...</td>\n",
       "      <td>1</td>\n",
       "      <td>2023-05-30 00:00:00</td>\n",
       "      <td>23.13.1m</td>\n",
       "      <td>Android</td>\n",
       "      <td>Data.AI</td>\n",
       "      <td>May</td>\n",
       "      <td>CPAY</td>\n",
       "    </tr>\n",
       "    <tr>\n",
       "      <th>1792</th>\n",
       "      <td>9880762160</td>\n",
       "      <td>Bei jedem öffnen möchte die App einem das Prem...</td>\n",
       "      <td>With every opening, the app wants to make the ...</td>\n",
       "      <td>1</td>\n",
       "      <td>2023-05-01 00:00:00</td>\n",
       "      <td>23.10.2</td>\n",
       "      <td>iOS</td>\n",
       "      <td>Data.AI</td>\n",
       "      <td>May</td>\n",
       "      <td>CPAY</td>\n",
       "    </tr>\n",
       "  </tbody>\n",
       "</table>\n",
       "<p>1793 rows × 10 columns</p>\n",
       "</div>"
      ],
      "text/plain": [
       "                                 Review ID  \\\n",
       "0                                158994127   \n",
       "1                                158999921   \n",
       "2                                159009543   \n",
       "3                                159010950   \n",
       "4                                159033855   \n",
       "...                                    ...   \n",
       "1788                             169331349   \n",
       "1789                             170340338   \n",
       "1790                             171527475   \n",
       "1791  a03f98f6-bb97-4e90-8885-de666236e05e   \n",
       "1792                            9880762160   \n",
       "\n",
       "                                        Reviews Content  \\\n",
       "0     Keine vernünftige Struktur wie bei Web Version...   \n",
       "1                Ich finde vorher war übersicht besser.   \n",
       "2                         Teilweise mühsame Navigation    \n",
       "3                               Unpraktische Bedienung    \n",
       "4     Mich stört, dass laufend irgendwelche Besucher...   \n",
       "...                                                 ...   \n",
       "1788  Viel zu teuer - möchte kündigen - keine Option...   \n",
       "1789                         Zu teuer, zu viel Werbung.   \n",
       "1790                                             Kosten   \n",
       "1791  Einfach unverschämt diese App. Geld für ein Ja...   \n",
       "1792  Bei jedem öffnen möchte die App einem das Prem...   \n",
       "\n",
       "                                      Converted English  Rating  \\\n",
       "0     Not a reasonable structure as with web version...       1   \n",
       "1                   I think before was overview better.       2   \n",
       "2                             Partly tedious navigation       3   \n",
       "3                                 Impractical operation       2   \n",
       "4     It bothers me that some visitors can constantl...       2   \n",
       "...                                                 ...     ...   \n",
       "1788  Way too expensive - want to cancel - no option...       3   \n",
       "1789               Too expensive, too much advertising.       2   \n",
       "1790                                               Cost       3   \n",
       "1791  Simply outrageous this app. Pull out money for...       1   \n",
       "1792  With every opening, the app wants to make the ...       1   \n",
       "\n",
       "               Start Date   Version Platform        Source      Month  \\\n",
       "0              21.10.2022       NaN  Android  EasyFeedback  September   \n",
       "1              21.10.2022       NaN  Android  EasyFeedback  September   \n",
       "2              22.10.2022       NaN  Android  EasyFeedback  September   \n",
       "3              22.10.2022       NaN  Android  EasyFeedback  September   \n",
       "4              22.10.2022       NaN  Android  EasyFeedback  September   \n",
       "...                   ...       ...      ...           ...        ...   \n",
       "1788   25.03.2023 | 12:43       NaN      iOS  EasyFeedback      March   \n",
       "1789   08.04.2023 | 08:33       NaN  Android  EasyFeedback      April   \n",
       "1790   25.04.2023 | 19:23       NaN  Android  EasyFeedback      April   \n",
       "1791  2023-05-30 00:00:00  23.13.1m  Android       Data.AI        May   \n",
       "1792  2023-05-01 00:00:00   23.10.2      iOS       Data.AI        May   \n",
       "\n",
       "       Predicted Team  \n",
       "0     People/Homepage  \n",
       "1       Design System  \n",
       "2             General  \n",
       "3             General  \n",
       "4             Profile  \n",
       "...               ...  \n",
       "1788             CPAY  \n",
       "1789             CPAY  \n",
       "1790             CPAY  \n",
       "1791             CPAY  \n",
       "1792             CPAY  \n",
       "\n",
       "[1793 rows x 10 columns]"
      ]
     },
     "execution_count": 2,
     "metadata": {},
     "output_type": "execute_result"
    }
   ],
   "source": [
    "train_df = pd.read_excel('/Users/suhas.kamuni/Downloads/Merged_Training_Set.xlsx')\n",
    "train_df.drop(['Platform.1'], axis = 1)"
   ]
  },
  {
   "cell_type": "code",
   "execution_count": 1,
   "metadata": {},
   "outputs": [
    {
     "ename": "NameError",
     "evalue": "name 'train_df' is not defined",
     "output_type": "error",
     "traceback": [
      "\u001b[0;31m---------------------------------------------------------------------------\u001b[0m",
      "\u001b[0;31mNameError\u001b[0m                                 Traceback (most recent call last)",
      "Cell \u001b[0;32mIn[1], line 1\u001b[0m\n\u001b[0;32m----> 1\u001b[0m train_df\n",
      "\u001b[0;31mNameError\u001b[0m: name 'train_df' is not defined"
     ]
    }
   ],
   "source": [
    "train_df"
   ]
  },
  {
   "cell_type": "code",
   "execution_count": 3,
   "metadata": {},
   "outputs": [
    {
     "name": "stdout",
     "output_type": "stream",
     "text": [
      "There are unique tokens in the dataset.\n"
     ]
    }
   ],
   "source": [
    "# Get Labeled tweets vocabulary\n",
    "# put all tokens of each tweet in one set\n",
    "total_vocabulary = train_df['Converted English']\n",
    "len(total_vocabulary)\n",
    "print ('There are unique tokens in the dataset.'.format (len (total_vocabulary) ))"
   ]
  },
  {
   "cell_type": "code",
   "execution_count": 4,
   "metadata": {},
   "outputs": [
    {
     "name": "stdout",
     "output_type": "stream",
     "text": [
      "Found 400000 word vectors.\n"
     ]
    }
   ],
   "source": [
    "# Get 100d GloVe embeddings for each word present in the vocabulary\n",
    "glove_dir = '/Users/suhas.kamuni/Downloads/glove/'\n",
    "\n",
    "glove = {}\n",
    "f = open(os.path.join(glove_dir, 'glove.6B.100d.txt'))\n",
    "for line in f:\n",
    "    values = line.split()\n",
    "    word = values[0]\n",
    "    coefs = np.asarray(values[1:], dtype='float32')\n",
    "    glove[word] = coefs\n",
    "f.close()\n",
    "\n",
    "print('Found %s word vectors.' % len(glove))"
   ]
  },
  {
   "cell_type": "code",
   "execution_count": 5,
   "metadata": {},
   "outputs": [],
   "source": [
    "import re\n",
    "import string \n",
    "from wordcloud import WordCloud, STOPWORDS\n",
    "\n",
    "def remove_pattern(input_txt, pattern):\n",
    "    r = re.findall(pattern, input_txt)\n",
    "    for i in r:\n",
    "        input_txt = re.sub(i, '', input_txt)\n",
    "        \n",
    "    return input_txt\n",
    "\n",
    "def clean_text(input_txt):\n",
    "    input_txt = input_txt.str.replace(\"[^a-zA-Z#]\", \" \") # removes special chars\n",
    "    input_txt = input_txt.str.strip() # removes white spaces\n",
    "    input_txt = input_txt.str.lower() # converts to lower case\n",
    "    input_txt = input_txt.fillna('') \n",
    "\n",
    "    p = string.punctuation\n",
    "    table = str.maketrans('','',p)\n",
    "    #df['data'] = df.fillna({'data':''})\n",
    "    input_txt = input_txt.apply(lambda x:x.translate(table))\n",
    "    input_txt = input_txt.apply(lambda x:x.split(' ')) #tokenising each word\n",
    "\n",
    "    stopwords = set(STOPWORDS) \n",
    "    input_txt = input_txt.apply(lambda x: [word for word in x if word not in stopwords]) # removing stopwords\n",
    "\n",
    "    ps = nltk.PorterStemmer() # stem the thing\n",
    "    input_txt = input_txt.apply(lambda x: [ps.stem(word) for word in x])\n",
    "    input_txt = input_txt.apply(lambda x: ' '.join([word for word in x if len(word) > 1])) # removing single letter\n",
    "\n",
    "    input_txt = np.vectorize(remove_pattern)(input_txt, \"@[\\w]*\")\n",
    "\n",
    "    return input_txt\n",
    "\n",
    "def train_classifier(X_try, y_try, clf):\n",
    "    if clf == \"ada_clf\": clf = ada_clf\n",
    "    elif clf == \"LR_502\": clf = LR_502\n",
    "    elif clf == \"LR_1\": clf = LR_1\n",
    "    elif clf == \"rnf\": clf = rnf\n",
    "    elif clf == \"svm\": clf = SVM\n",
    "    elif clf == \"dtree\": clf = DTree \n",
    "    elif clf == \"knn5\":clf = knn5\n",
    "    elif clf == \"kmeans\" :clf = kmeans\n",
    "    elif clf == \"gnb\" :clf = gnb\n",
    "    elif clf == \"xgbc\" :clf = xgbc\n",
    "    \n",
    "    pipe = Pipeline([\n",
    "            (\"Vectorizer_tfidf\", vectorizer_tfidf),\n",
    "            #(\"Scaler\", Scaler),\n",
    "            (\"\",clf)\n",
    "        ])\n",
    "    pipe.fit(X_try, y_try)\n",
    "\n",
    "    # Return the trained classifier\n",
    "    return pipe\n",
    "\n",
    "\n",
    "def pipe_try(xx_test, yy_test, model):\n",
    "    print('========================== {} ==========================\\n'.format(model))\n",
    "    print(\"\\t \\t \\t\\t \\t------------------\")\n",
    "    print(\"\\t \\t \\t \\t \\tF1 Score: \", round(f1_score(yy_test, model.predict(xx_test), average='macro')*100,2),\"%\")\n",
    "    print(\"\\t \\t \\t\\t \\tAccuracy: \", round(metrics.accuracy_score(yy_test, model.predict(xx_test))*100,2),\"%\")\n",
    "    print(\"    \\t \\t \\t \\t       Hamming Loss: \", round(hamming_loss(yy_test, model.predict(xx_test)), 2))\n",
    "    print(\"    \\t \\t \\t \\t   Weighted F1 Score: \",round(f1_score(yy_test, model.predict(xx_test), average='weighted')*100,2),\"%\")\n",
    "    print(\"    \\t \\t \\t \\t   ---------------------------\\n\")\n",
    "    print('================================= Pipeline Specifications ==================================')\n",
    "    print(model)\n",
    "    #print(\"\\n\")\n",
    "    #print(metrics.classification_report(yy_test, pr.predict(xx_test)))\n",
    "\n",
    "\n",
    "def best_scores(m, n):\n",
    "    acc = []\n",
    "    for i in range(n):\n",
    "        model = m.fit(X_train, y_train)\n",
    "        acc.append(round(f1_score(y_test, model.predict(X_test), average='macro')*100,2))\n",
    "\n",
    "    unique_elements = [x for i, x in enumerate(acc) if x not in acc[:i]]\n",
    "    unique_elements.sort(reverse=True)\n",
    "    acc = unique_elements[:5]\n",
    "    for i in acc: print(i.astype(str) + '%') \n",
    "    \n",
    "\n",
    "def best_model(model, n):\n",
    "    start_time = time.time()\n",
    "    acc = []\n",
    "    for i in range(n):\n",
    "        model = model.fit(X_train, y_train)\n",
    "        acc.append(round(f1_score(y_test, model.predict(X_test), average='macro')*100,2))\n",
    "        \n",
    "    while n>0:\n",
    "        model = model.fit(X_train, y_train)\n",
    "        end_time = time.time()\n",
    "        elapsed_time = end_time - start_time\n",
    "        if elapsed_time > 60:\n",
    "            #print(\"$\")\n",
    "            acc_u = [x for i, x in enumerate(acc) if x not in acc[:i]]\n",
    "            acc_u.sort(reverse=True)\n",
    "            if round(f1_score(y_test, model.predict(X_test), average='macro')*100,2) == acc_u[1:2]:\n",
    "                #print(\"^\")\n",
    "                break\n",
    "        \n",
    "        if round(f1_score(y_test, model.predict(X_test), average='macro')*100,2) == max(acc):\n",
    "            #print(\"%\")\n",
    "            break\n",
    "\n",
    "    #print(round(f1_score(y_test, model.predict(X_test), average='macro')*100,2))\n",
    "    #acc = [x for i, x in enumerate(acc) if x not in acc[:i]]\n",
    "    #acc.sort(reverse = True)\n",
    "    #print(acc[:5])\n",
    "    #print(f\"Elapsed time: {elapsed_time:.2f} seconds\")\n",
    "    #print(elapsed_time)\n",
    "    return model        "
   ]
  },
  {
   "cell_type": "code",
   "execution_count": 6,
   "metadata": {},
   "outputs": [],
   "source": [
    "class W2vVectorizer(object): \n",
    "    \"\"\" class to generate mean word embeddings from word vectors. \n",
    "    This class is quoted from Flatiron School Curriculum Learn.co Mod 4 appendix \"\"\"\n",
    "    def __init__(self, w2v):\n",
    "        # Takes in a dictionary of words and vectors as input\n",
    "        self.w2v = w2v\n",
    "        if len(w2v) == 0:\n",
    "            self.dimensions = 0\n",
    "        else:\n",
    "            self.dimensions = len(w2v[next (iter (glove)) ])\n",
    "\n",
    "        # Note: Even though it doesn't do anything,\n",
    "        # it's required that this object implement a fit method or else\n",
    "        # it can t be used in a scikit-learn pipeline\n",
    "\n",
    "    def fit (self, X, Y):\n",
    "        return self\n",
    "    \n",
    "    def transform(self, X): \n",
    "        # × should be a series of lists of tokens\n",
    "        return np.array([np.mean ( [self.w2v[w] for w in words if w in self.w2v] or [np.zeros (self.dimensions) ], axis=0) for words in X])"
   ]
  },
  {
   "cell_type": "code",
   "execution_count": 7,
   "metadata": {},
   "outputs": [
    {
     "data": {
      "text/plain": [
       "((1434, 100), (1434,))"
      ]
     },
     "execution_count": 7,
     "metadata": {},
     "output_type": "execute_result"
    }
   ],
   "source": [
    "# Instantiate a mean word embedding vectorizer using glove embeddings\n",
    "vectorizer = W2vVectorizer(glove)\n",
    "train_df['text_token'] = train_df['Converted English'].apply(lambda x: gensim.utils.simple_preprocess(x))\n",
    "\n",
    "# X_glove = vectorizer.transform(train_df['text_token'])\n",
    "X_glove = vectorizer.transform(train_df['Converted English'])\n",
    "y = train_df['Predicted Team']\n",
    "\n",
    "rnf = RandomForestClassifier(n_estimators=100) \n",
    "\n",
    "X_train, X_test, y_train, y_test = train_test_split(X_glove, y, test_size = 0.2, random_state = 0, stratify = y)\n",
    "X_train.shape, y_train.shape"
   ]
  },
  {
   "cell_type": "code",
   "execution_count": 8,
   "metadata": {},
   "outputs": [],
   "source": [
    "rf_glove = RandomForestClassifier(random_state=1)\n",
    "rf_glove.fit(X_train, y_train)\n",
    "y_pred = rf_glove.predict(X_test)"
   ]
  },
  {
   "cell_type": "code",
   "execution_count": 9,
   "metadata": {},
   "outputs": [
    {
     "name": "stdout",
     "output_type": "stream",
     "text": [
      "                      precision    recall  f1-score   support\n",
      "\n",
      "                 Ads       0.20      0.05      0.08        19\n",
      "                CPAY       0.25      0.14      0.18         7\n",
      "Content Architecture       0.00      0.00      0.00        16\n",
      "       Design System       0.00      0.00      0.00        24\n",
      "             General       0.41      0.90      0.56       134\n",
      "            Insights       0.50      0.05      0.09        21\n",
      "                Jobs       0.22      0.11      0.14        19\n",
      " LinkedIn comparison       0.00      0.00      0.00        12\n",
      "           Messenger       0.25      0.15      0.19        13\n",
      "        Notification       0.00      0.00      0.00         9\n",
      "     People/Homepage       0.35      0.24      0.28        34\n",
      "             Premium       0.14      0.06      0.09        16\n",
      "             Profile       0.00      0.00      0.00        12\n",
      " Reference to Groups       1.00      0.08      0.14        13\n",
      "              Upsell       0.00      0.00      0.00        10\n",
      "\n",
      "            accuracy                           0.38       359\n",
      "           macro avg       0.22      0.12      0.12       359\n",
      "        weighted avg       0.29      0.38      0.27       359\n",
      "\n"
     ]
    },
    {
     "name": "stderr",
     "output_type": "stream",
     "text": [
      "/Users/suhas.kamuni/Library/Python/3.9/lib/python/site-packages/sklearn/metrics/_classification.py:1471: UndefinedMetricWarning: Precision and F-score are ill-defined and being set to 0.0 in labels with no predicted samples. Use `zero_division` parameter to control this behavior.\n",
      "  _warn_prf(average, modifier, msg_start, len(result))\n",
      "/Users/suhas.kamuni/Library/Python/3.9/lib/python/site-packages/sklearn/metrics/_classification.py:1471: UndefinedMetricWarning: Precision and F-score are ill-defined and being set to 0.0 in labels with no predicted samples. Use `zero_division` parameter to control this behavior.\n",
      "  _warn_prf(average, modifier, msg_start, len(result))\n",
      "/Users/suhas.kamuni/Library/Python/3.9/lib/python/site-packages/sklearn/metrics/_classification.py:1471: UndefinedMetricWarning: Precision and F-score are ill-defined and being set to 0.0 in labels with no predicted samples. Use `zero_division` parameter to control this behavior.\n",
      "  _warn_prf(average, modifier, msg_start, len(result))\n"
     ]
    }
   ],
   "source": [
    "print(metrics.classification_report(y_test, y_pred))"
   ]
  },
  {
   "cell_type": "code",
   "execution_count": 10,
   "metadata": {},
   "outputs": [
    {
     "data": {
      "text/plain": [
       "Text(0.5, 1.0, 'Confusion Matrix\\n')"
      ]
     },
     "execution_count": 10,
     "metadata": {},
     "output_type": "execute_result"
    },
    {
     "data": {
      "image/png": "[encoded data removed]",
      "text/plain": [
       "<Figure size 1300x800 with 2 Axes>"
      ]
     },
     "metadata": {},
     "output_type": "display_data"
    }
   ],
   "source": [
    "sns.set(font_scale=1.0)\n",
    "cm = confusion_matrix(y_test, y_pred)\n",
    "fig, ax = plt.subplots(figsize=(13,8))\n",
    "\n",
    "sns.heatmap(cm, \n",
    "            annot=True, \n",
    "            cmap=\"Blues\", \n",
    "            fmt='d',\n",
    "            xticklabels = rf_glove[-1].classes_,\n",
    "            yticklabels = rf_glove[-1].classes_,\n",
    "            )\n",
    "\n",
    "plt.ylabel('Actual\\n')\n",
    "plt.xlabel('\\nPredicted')\n",
    "plt.xticks(rotation = 85)\n",
    "plt.title(\"Confusion Matrix\\n\", size = 17)"
   ]
  },
  {
   "cell_type": "code",
   "execution_count": 15,
   "metadata": {},
   "outputs": [
    {
     "name": "stdout",
     "output_type": "stream",
     "text": [
      "========================== RandomForestClassifier(random_state=1) ==========================\n",
      "\n",
      "\t \t \t\t \t------------------\n",
      "\t \t \t \t \tF1 Score:  11.72 %\n",
      "\t \t \t\t \tAccuracy:  38.44 %\n",
      "    \t \t \t \t       Hamming Loss:  0.62\n",
      "    \t \t \t \t   Weighted F1 Score:  27.27 %\n",
      "    \t \t \t \t   ---------------------------\n",
      "\n",
      "================================= Pipeline Specifications ==================================\n",
      "RandomForestClassifier(random_state=1)\n"
     ]
    }
   ],
   "source": [
    "pipe_try(X_test, y_test, rf_glove)"
   ]
  },
  {
   "cell_type": "code",
   "execution_count": 12,
   "metadata": {},
   "outputs": [
    {
     "name": "stdout",
     "output_type": "stream",
     "text": [
      "========================== LogisticRegression(C=502, solver='liblinear') ==========================\n",
      "\n",
      "\t \t \t\t \t------------------\n",
      "\t \t \t \t \tF1 Score:  14.49 %\n",
      "\t \t \t\t \tAccuracy:  38.44 %\n",
      "    \t \t \t \t       Hamming Loss:  0.62\n",
      "    \t \t \t \t   Weighted F1 Score:  29.18 %\n",
      "    \t \t \t \t   ---------------------------\n",
      "\n",
      "================================= Pipeline Specifications ==================================\n",
      "LogisticRegression(C=502, solver='liblinear')\n"
     ]
    }
   ],
   "source": [
    "LR_502 = LogisticRegression(C=502, solver='liblinear')\n",
    "lr_model = LR_502.fit(X_train, y_train.values.ravel())\n",
    "pipe_try(X_test, y_test, lr_model)"
   ]
  },
  {
   "cell_type": "code",
   "execution_count": 13,
   "metadata": {},
   "outputs": [
    {
     "name": "stdout",
     "output_type": "stream",
     "text": [
      "                      precision    recall  f1-score   support\n",
      "\n",
      "                 Ads       0.50      0.05      0.10        19\n",
      "                CPAY       0.00      0.00      0.00         7\n",
      "Content Architecture       0.00      0.00      0.00        16\n",
      "       Design System       0.00      0.00      0.00        24\n",
      "             General       0.39      0.79      0.52       134\n",
      "            Insights       0.25      0.10      0.14        21\n",
      "                Jobs       0.48      0.79      0.60        19\n",
      " LinkedIn comparison       0.33      0.17      0.22        12\n",
      "           Messenger       0.00      0.00      0.00        13\n",
      "        Notification       0.00      0.00      0.00         9\n",
      "     People/Homepage       0.62      0.29      0.40        34\n",
      "             Premium       0.33      0.06      0.11        16\n",
      "             Profile       0.00      0.00      0.00        12\n",
      " Reference to Groups       0.12      0.08      0.10        13\n",
      "              Upsell       0.00      0.00      0.00        10\n",
      "\n",
      "            accuracy                           0.38       359\n",
      "           macro avg       0.20      0.16      0.14       359\n",
      "        weighted avg       0.30      0.38      0.29       359\n",
      "\n"
     ]
    },
    {
     "name": "stderr",
     "output_type": "stream",
     "text": [
      "/Users/suhas.kamuni/Library/Python/3.9/lib/python/site-packages/sklearn/metrics/_classification.py:1471: UndefinedMetricWarning: Precision and F-score are ill-defined and being set to 0.0 in labels with no predicted samples. Use `zero_division` parameter to control this behavior.\n",
      "  _warn_prf(average, modifier, msg_start, len(result))\n",
      "/Users/suhas.kamuni/Library/Python/3.9/lib/python/site-packages/sklearn/metrics/_classification.py:1471: UndefinedMetricWarning: Precision and F-score are ill-defined and being set to 0.0 in labels with no predicted samples. Use `zero_division` parameter to control this behavior.\n",
      "  _warn_prf(average, modifier, msg_start, len(result))\n",
      "/Users/suhas.kamuni/Library/Python/3.9/lib/python/site-packages/sklearn/metrics/_classification.py:1471: UndefinedMetricWarning: Precision and F-score are ill-defined and being set to 0.0 in labels with no predicted samples. Use `zero_division` parameter to control this behavior.\n",
      "  _warn_prf(average, modifier, msg_start, len(result))\n"
     ]
    }
   ],
   "source": [
    "print(metrics.classification_report(y_test, lr_model.predict(X_test)))"
   ]
  },
  {
   "cell_type": "code",
   "execution_count": null,
   "metadata": {},
   "outputs": [],
   "source": []
  }
 ],
 "metadata": {
  "kernelspec": {
   "display_name": "Python 3",
   "language": "python",
   "name": "python3"
  },
  "language_info": {
   "codemirror_mode": {
    "name": "ipython",
    "version": 3
   },
   "file_extension": ".py",
   "mimetype": "text/x-python",
   "name": "python",
   "nbconvert_exporter": "python",
   "pygments_lexer": "ipython3",
   "version": "3.9.6"
  },
  "orig_nbformat": 4
 },
 "nbformat": 4,
 "nbformat_minor": 2
}
