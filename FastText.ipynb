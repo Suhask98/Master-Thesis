{
 "cells": [
  {
   "cell_type": "code",
   "execution_count": 1,
   "metadata": {},
   "outputs": [],
   "source": [
    "import fasttext\n",
    "import pandas as pd\n",
    "import numpy as np\n",
    "import matplotlib.pyplot as plt\n",
    "import gensim\n",
    "\n",
    "from gensim.models import KeyedVectors\n",
    "from sklearn import metrics\n",
    "from sklearn.metrics import hamming_loss, f1_score, confusion_matrix\n",
    "from sklearn.model_selection import train_test_split\n",
    "from sklearn.ensemble import RandomForestClassifier\n",
    "from sklearn.linear_model import LogisticRegression"
   ]
  },
  {
   "cell_type": "code",
   "execution_count": 2,
   "metadata": {},
   "outputs": [],
   "source": [
    "def pipe_try(xx_test, yy_test, model):\n",
    "    print('========================== {} ==========================\\n'.format(model))\n",
    "    print(\"\\t \\t \\t\\t \\t------------------\")\n",
    "    print(\"\\t \\t \\t \\t \\tF1 Score: \", round(f1_score(yy_test, model.predict(xx_test), average='macro')*100,3),\"%\")\n",
    "    print(\"\\t \\t \\t\\t \\tAccuracy: \", round(metrics.accuracy_score(yy_test, model.predict(xx_test))*100,3),\"%\")\n",
    "    print(\"    \\t \\t \\t \\t       Hamming Loss: \", round(hamming_loss(yy_test, model.predict(xx_test)), 3))\n",
    "    #print(\"    \\t \\t \\t \\t       ROC_AUC Score: \", round(roc_auc_score(yy_test, model.predict(xx_test))*100, 3), '%')\n",
    "    print(\"    \\t \\t \\t \\t   Weighted F1 Score: \",round(f1_score(yy_test, model.predict(xx_test), average='weighted')*100,3),\"%\")\n",
    "    print(\"    \\t \\t \\t \\t   ---------------------------\\n\")\n",
    "    print('================================= Pipeline Specifications ==================================')\n",
    "    print(model)"
   ]
  },
  {
   "cell_type": "code",
   "execution_count": 3,
   "metadata": {},
   "outputs": [
    {
     "data": {
      "text/html": [
       "<div>\n",
       "<style scoped>\n",
       "    .dataframe tbody tr th:only-of-type {\n",
       "        vertical-align: middle;\n",
       "    }\n",
       "\n",
       "    .dataframe tbody tr th {\n",
       "        vertical-align: top;\n",
       "    }\n",
       "\n",
       "    .dataframe thead th {\n",
       "        text-align: right;\n",
       "    }\n",
       "</style>\n",
       "<table border=\"1\" class=\"dataframe\">\n",
       "  <thead>\n",
       "    <tr style=\"text-align: right;\">\n",
       "      <th></th>\n",
       "      <th>Review ID</th>\n",
       "      <th>Reviews Content</th>\n",
       "      <th>Converted English</th>\n",
       "      <th>Rating</th>\n",
       "      <th>Start Date</th>\n",
       "      <th>Version</th>\n",
       "      <th>Platform</th>\n",
       "      <th>Source</th>\n",
       "      <th>Month</th>\n",
       "      <th>Predicted Team</th>\n",
       "    </tr>\n",
       "  </thead>\n",
       "  <tbody>\n",
       "    <tr>\n",
       "      <th>0</th>\n",
       "      <td>158994127</td>\n",
       "      <td>Keine vernünftige Struktur wie bei Web Version...</td>\n",
       "      <td>Not a reasonable structure as with web version...</td>\n",
       "      <td>1</td>\n",
       "      <td>21.10.2022</td>\n",
       "      <td>NaN</td>\n",
       "      <td>Android</td>\n",
       "      <td>EasyFeedback</td>\n",
       "      <td>September</td>\n",
       "      <td>People/Homepage</td>\n",
       "    </tr>\n",
       "    <tr>\n",
       "      <th>1</th>\n",
       "      <td>158999921</td>\n",
       "      <td>Ich finde vorher war übersicht besser.</td>\n",
       "      <td>I think before was overview better.</td>\n",
       "      <td>2</td>\n",
       "      <td>21.10.2022</td>\n",
       "      <td>NaN</td>\n",
       "      <td>Android</td>\n",
       "      <td>EasyFeedback</td>\n",
       "      <td>September</td>\n",
       "      <td>Design System</td>\n",
       "    </tr>\n",
       "    <tr>\n",
       "      <th>2</th>\n",
       "      <td>159009543</td>\n",
       "      <td>Teilweise mühsame Navigation</td>\n",
       "      <td>Partly tedious navigation</td>\n",
       "      <td>3</td>\n",
       "      <td>22.10.2022</td>\n",
       "      <td>NaN</td>\n",
       "      <td>Android</td>\n",
       "      <td>EasyFeedback</td>\n",
       "      <td>September</td>\n",
       "      <td>General</td>\n",
       "    </tr>\n",
       "    <tr>\n",
       "      <th>3</th>\n",
       "      <td>159010950</td>\n",
       "      <td>Unpraktische Bedienung</td>\n",
       "      <td>Impractical operation</td>\n",
       "      <td>2</td>\n",
       "      <td>22.10.2022</td>\n",
       "      <td>NaN</td>\n",
       "      <td>Android</td>\n",
       "      <td>EasyFeedback</td>\n",
       "      <td>September</td>\n",
       "      <td>General</td>\n",
       "    </tr>\n",
       "    <tr>\n",
       "      <th>4</th>\n",
       "      <td>159033855</td>\n",
       "      <td>Mich stört, dass laufend irgendwelche Besucher...</td>\n",
       "      <td>It bothers me that some visitors can constantl...</td>\n",
       "      <td>2</td>\n",
       "      <td>22.10.2022</td>\n",
       "      <td>NaN</td>\n",
       "      <td>Android</td>\n",
       "      <td>EasyFeedback</td>\n",
       "      <td>September</td>\n",
       "      <td>Profile</td>\n",
       "    </tr>\n",
       "    <tr>\n",
       "      <th>...</th>\n",
       "      <td>...</td>\n",
       "      <td>...</td>\n",
       "      <td>...</td>\n",
       "      <td>...</td>\n",
       "      <td>...</td>\n",
       "      <td>...</td>\n",
       "      <td>...</td>\n",
       "      <td>...</td>\n",
       "      <td>...</td>\n",
       "      <td>...</td>\n",
       "    </tr>\n",
       "    <tr>\n",
       "      <th>1788</th>\n",
       "      <td>169331349</td>\n",
       "      <td>Viel zu teuer - möchte kündigen - keine Option...</td>\n",
       "      <td>Way too expensive - want to cancel - no option...</td>\n",
       "      <td>3</td>\n",
       "      <td>25.03.2023 | 12:43</td>\n",
       "      <td>NaN</td>\n",
       "      <td>iOS</td>\n",
       "      <td>EasyFeedback</td>\n",
       "      <td>March</td>\n",
       "      <td>CPAY</td>\n",
       "    </tr>\n",
       "    <tr>\n",
       "      <th>1789</th>\n",
       "      <td>170340338</td>\n",
       "      <td>Zu teuer, zu viel Werbung.</td>\n",
       "      <td>Too expensive, too much advertising.</td>\n",
       "      <td>2</td>\n",
       "      <td>08.04.2023 | 08:33</td>\n",
       "      <td>NaN</td>\n",
       "      <td>Android</td>\n",
       "      <td>EasyFeedback</td>\n",
       "      <td>April</td>\n",
       "      <td>CPAY</td>\n",
       "    </tr>\n",
       "    <tr>\n",
       "      <th>1790</th>\n",
       "      <td>171527475</td>\n",
       "      <td>Kosten</td>\n",
       "      <td>Cost</td>\n",
       "      <td>3</td>\n",
       "      <td>25.04.2023 | 19:23</td>\n",
       "      <td>NaN</td>\n",
       "      <td>Android</td>\n",
       "      <td>EasyFeedback</td>\n",
       "      <td>April</td>\n",
       "      <td>CPAY</td>\n",
       "    </tr>\n",
       "    <tr>\n",
       "      <th>1791</th>\n",
       "      <td>a03f98f6-bb97-4e90-8885-de666236e05e</td>\n",
       "      <td>Einfach unverschämt diese App. Geld für ein Ja...</td>\n",
       "      <td>Simply outrageous this app. Pull out money for...</td>\n",
       "      <td>1</td>\n",
       "      <td>2023-05-30 00:00:00</td>\n",
       "      <td>23.13.1m</td>\n",
       "      <td>Android</td>\n",
       "      <td>Data.AI</td>\n",
       "      <td>May</td>\n",
       "      <td>CPAY</td>\n",
       "    </tr>\n",
       "    <tr>\n",
       "      <th>1792</th>\n",
       "      <td>9880762160</td>\n",
       "      <td>Bei jedem öffnen möchte die App einem das Prem...</td>\n",
       "      <td>With every opening, the app wants to make the ...</td>\n",
       "      <td>1</td>\n",
       "      <td>2023-05-01 00:00:00</td>\n",
       "      <td>23.10.2</td>\n",
       "      <td>iOS</td>\n",
       "      <td>Data.AI</td>\n",
       "      <td>May</td>\n",
       "      <td>CPAY</td>\n",
       "    </tr>\n",
       "  </tbody>\n",
       "</table>\n",
       "<p>1793 rows × 10 columns</p>\n",
       "</div>"
      ],
      "text/plain": [
       "                                 Review ID  \\\n",
       "0                                158994127   \n",
       "1                                158999921   \n",
       "2                                159009543   \n",
       "3                                159010950   \n",
       "4                                159033855   \n",
       "...                                    ...   \n",
       "1788                             169331349   \n",
       "1789                             170340338   \n",
       "1790                             171527475   \n",
       "1791  a03f98f6-bb97-4e90-8885-de666236e05e   \n",
       "1792                            9880762160   \n",
       "\n",
       "                                        Reviews Content  \\\n",
       "0     Keine vernünftige Struktur wie bei Web Version...   \n",
       "1                Ich finde vorher war übersicht besser.   \n",
       "2                         Teilweise mühsame Navigation    \n",
       "3                               Unpraktische Bedienung    \n",
       "4     Mich stört, dass laufend irgendwelche Besucher...   \n",
       "...                                                 ...   \n",
       "1788  Viel zu teuer - möchte kündigen - keine Option...   \n",
       "1789                         Zu teuer, zu viel Werbung.   \n",
       "1790                                             Kosten   \n",
       "1791  Einfach unverschämt diese App. Geld für ein Ja...   \n",
       "1792  Bei jedem öffnen möchte die App einem das Prem...   \n",
       "\n",
       "                                      Converted English  Rating  \\\n",
       "0     Not a reasonable structure as with web version...       1   \n",
       "1                   I think before was overview better.       2   \n",
       "2                             Partly tedious navigation       3   \n",
       "3                                 Impractical operation       2   \n",
       "4     It bothers me that some visitors can constantl...       2   \n",
       "...                                                 ...     ...   \n",
       "1788  Way too expensive - want to cancel - no option...       3   \n",
       "1789               Too expensive, too much advertising.       2   \n",
       "1790                                               Cost       3   \n",
       "1791  Simply outrageous this app. Pull out money for...       1   \n",
       "1792  With every opening, the app wants to make the ...       1   \n",
       "\n",
       "               Start Date   Version Platform        Source      Month  \\\n",
       "0              21.10.2022       NaN  Android  EasyFeedback  September   \n",
       "1              21.10.2022       NaN  Android  EasyFeedback  September   \n",
       "2              22.10.2022       NaN  Android  EasyFeedback  September   \n",
       "3              22.10.2022       NaN  Android  EasyFeedback  September   \n",
       "4              22.10.2022       NaN  Android  EasyFeedback  September   \n",
       "...                   ...       ...      ...           ...        ...   \n",
       "1788   25.03.2023 | 12:43       NaN      iOS  EasyFeedback      March   \n",
       "1789   08.04.2023 | 08:33       NaN  Android  EasyFeedback      April   \n",
       "1790   25.04.2023 | 19:23       NaN  Android  EasyFeedback      April   \n",
       "1791  2023-05-30 00:00:00  23.13.1m  Android       Data.AI        May   \n",
       "1792  2023-05-01 00:00:00   23.10.2      iOS       Data.AI        May   \n",
       "\n",
       "       Predicted Team  \n",
       "0     People/Homepage  \n",
       "1       Design System  \n",
       "2             General  \n",
       "3             General  \n",
       "4             Profile  \n",
       "...               ...  \n",
       "1788             CPAY  \n",
       "1789             CPAY  \n",
       "1790             CPAY  \n",
       "1791             CPAY  \n",
       "1792             CPAY  \n",
       "\n",
       "[1793 rows x 10 columns]"
      ]
     },
     "execution_count": 3,
     "metadata": {},
     "output_type": "execute_result"
    }
   ],
   "source": [
    "embedding_file = '/Users/suhas.kamuni/Downloads/crawl-300d-2M.vec'\n",
    "df = pd.read_excel('/Users/suhas.kamuni/Downloads/Merged_Training_Set.xlsx')\n",
    "df.drop(['Platform.1'], axis = 1)"
   ]
  },
  {
   "cell_type": "code",
   "execution_count": 1,
   "metadata": {},
   "outputs": [
    {
     "ename": "NameError",
     "evalue": "name 'df' is not defined",
     "output_type": "error",
     "traceback": [
      "\u001b[0;31m---------------------------------------------------------------------------\u001b[0m",
      "\u001b[0;31mNameError\u001b[0m                                 Traceback (most recent call last)",
      "Cell \u001b[0;32mIn[1], line 1\u001b[0m\n\u001b[0;32m----> 1\u001b[0m df\n",
      "\u001b[0;31mNameError\u001b[0m: name 'df' is not defined"
     ]
    }
   ],
   "source": [
    "df"
   ]
  },
  {
   "cell_type": "code",
   "execution_count": 4,
   "metadata": {},
   "outputs": [],
   "source": [
    "# Load vectors directly using Gensim\n",
    "model = KeyedVectors.load_word2vec_format(embedding_file)"
   ]
  },
  {
   "cell_type": "code",
   "execution_count": 5,
   "metadata": {},
   "outputs": [],
   "source": [
    "def generate_sentence_vector(sentence):\n",
    "    words = sentence.split()\n",
    "    sentence_vector = np.mean([model[word] for word in words if word in model], axis=0)\n",
    "    return sentence_vector if isinstance(sentence_vector, np.ndarray) else np.zeros((model.vector_size,))\n",
    "\n",
    "# Generate FastText embeddings for each sentence\n",
    "sentences_data = df['Converted English']\n",
    "labels = df['Predicted Team']"
   ]
  },
  {
   "cell_type": "code",
   "execution_count": 6,
   "metadata": {},
   "outputs": [
    {
     "name": "stderr",
     "output_type": "stream",
     "text": [
      "/Users/suhas.kamuni/Library/Python/3.9/lib/python/site-packages/numpy/core/fromnumeric.py:3432: RuntimeWarning: Mean of empty slice.\n",
      "  return _methods._mean(a, axis=axis, dtype=dtype,\n",
      "/Users/suhas.kamuni/Library/Python/3.9/lib/python/site-packages/numpy/core/_methods.py:190: RuntimeWarning: invalid value encountered in double_scalars\n",
      "  ret = ret.dtype.type(ret / rcount)\n"
     ]
    }
   ],
   "source": [
    "# Calculate the sentence vector by averaging the vectors of the words in the sentence\n",
    "embeddings = np.array([generate_sentence_vector(sentence) for sentence in sentences_data])\n",
    "\n",
    "# Split into training and testing sets\n",
    "X_train, X_test, y_train, y_test = train_test_split(embeddings, labels, test_size=0.2, random_state=0)"
   ]
  },
  {
   "cell_type": "code",
   "execution_count": 7,
   "metadata": {},
   "outputs": [
    {
     "data": {
      "text/plain": [
       "((1434, 300), (1434,))"
      ]
     },
     "execution_count": 7,
     "metadata": {},
     "output_type": "execute_result"
    }
   ],
   "source": [
    "X_train.shape, y_train.shape"
   ]
  },
  {
   "cell_type": "code",
   "execution_count": 8,
   "metadata": {},
   "outputs": [],
   "source": [
    "# Initialize a RandomForest\n",
    "rf_glove = RandomForestClassifier(n_estimators=100)\n",
    "\n",
    "# Fit the model\n",
    "rf_glove.fit(X_train, y_train)\n",
    "\n",
    "# Predict on test data\n",
    "y_pred = rf_glove.predict(X_test)"
   ]
  },
  {
   "cell_type": "code",
   "execution_count": 9,
   "metadata": {},
   "outputs": [
    {
     "name": "stdout",
     "output_type": "stream",
     "text": [
      "                      precision    recall  f1-score   support\n",
      "\n",
      "                 Ads       0.80      0.27      0.40        15\n",
      "                CPAY       0.00      0.00      0.00         8\n",
      "Content Architecture       1.00      0.05      0.10        19\n",
      "       Design System       0.00      0.00      0.00        25\n",
      "             General       0.43      0.97      0.60       132\n",
      "            Insights       1.00      0.05      0.09        21\n",
      "                Jobs       0.33      0.15      0.21        20\n",
      " LinkedIn comparison       0.50      0.18      0.27        11\n",
      "           Messenger       0.00      0.00      0.00        16\n",
      "        Notification       1.00      0.08      0.14        13\n",
      "     People/Homepage       0.67      0.58      0.62        31\n",
      "             Premium       0.50      0.36      0.42        11\n",
      "             Profile       0.00      0.00      0.00        15\n",
      " Reference to Groups       1.00      0.33      0.50        12\n",
      "              Upsell       0.00      0.00      0.00        10\n",
      "\n",
      "            accuracy                           0.46       359\n",
      "           macro avg       0.48      0.20      0.22       359\n",
      "        weighted avg       0.48      0.46      0.36       359\n",
      "\n"
     ]
    },
    {
     "name": "stderr",
     "output_type": "stream",
     "text": [
      "/Users/suhas.kamuni/Library/Python/3.9/lib/python/site-packages/sklearn/metrics/_classification.py:1471: UndefinedMetricWarning: Precision and F-score are ill-defined and being set to 0.0 in labels with no predicted samples. Use `zero_division` parameter to control this behavior.\n",
      "  _warn_prf(average, modifier, msg_start, len(result))\n",
      "/Users/suhas.kamuni/Library/Python/3.9/lib/python/site-packages/sklearn/metrics/_classification.py:1471: UndefinedMetricWarning: Precision and F-score are ill-defined and being set to 0.0 in labels with no predicted samples. Use `zero_division` parameter to control this behavior.\n",
      "  _warn_prf(average, modifier, msg_start, len(result))\n",
      "/Users/suhas.kamuni/Library/Python/3.9/lib/python/site-packages/sklearn/metrics/_classification.py:1471: UndefinedMetricWarning: Precision and F-score are ill-defined and being set to 0.0 in labels with no predicted samples. Use `zero_division` parameter to control this behavior.\n",
      "  _warn_prf(average, modifier, msg_start, len(result))\n"
     ]
    }
   ],
   "source": [
    "# Print performance details\n",
    "print(metrics.classification_report(y_test, y_pred))"
   ]
  },
  {
   "cell_type": "code",
   "execution_count": 13,
   "metadata": {},
   "outputs": [
    {
     "name": "stdout",
     "output_type": "stream",
     "text": [
      "========================== RandomForestClassifier() ==========================\n",
      "\n",
      "\t \t \t\t \t------------------\n",
      "\t \t \t \t \tF1 Score:  22.315 %\n",
      "\t \t \t\t \tAccuracy:  46.24 %\n",
      "    \t \t \t \t       Hamming Loss:  0.538\n",
      "    \t \t \t \t   Weighted F1 Score:  35.533 %\n",
      "    \t \t \t \t   ---------------------------\n",
      "\n",
      "================================= Pipeline Specifications ==================================\n",
      "RandomForestClassifier()\n"
     ]
    }
   ],
   "source": [
    "pipe_try(X_test, y_test, rf_glove)"
   ]
  },
  {
   "cell_type": "code",
   "execution_count": 11,
   "metadata": {},
   "outputs": [
    {
     "name": "stdout",
     "output_type": "stream",
     "text": [
      "========================== LogisticRegression(C=502, solver='liblinear') ==========================\n",
      "\n",
      "\t \t \t\t \t------------------\n",
      "\t \t \t \t \tF1 Score:  49.322 %\n",
      "\t \t \t\t \tAccuracy:  52.368 %\n",
      "    \t \t \t \t       Hamming Loss:  0.476\n",
      "    \t \t \t \t   Weighted F1 Score:  52.37 %\n",
      "    \t \t \t \t   ---------------------------\n",
      "\n",
      "================================= Pipeline Specifications ==================================\n",
      "LogisticRegression(C=502, solver='liblinear')\n"
     ]
    }
   ],
   "source": [
    "LR_glove = LR_502 = LogisticRegression(C=502, solver='liblinear')\n",
    "LR_glove.fit(X_train, y_train)\n",
    "pipe_try(X_test, y_test, LR_glove)"
   ]
  },
  {
   "cell_type": "code",
   "execution_count": 12,
   "metadata": {},
   "outputs": [
    {
     "name": "stdout",
     "output_type": "stream",
     "text": [
      "                      precision    recall  f1-score   support\n",
      "\n",
      "                 Ads       0.40      0.40      0.40        15\n",
      "                CPAY       0.29      0.25      0.27         8\n",
      "Content Architecture       0.36      0.47      0.41        19\n",
      "       Design System       0.42      0.40      0.41        25\n",
      "             General       0.60      0.51      0.55       132\n",
      "            Insights       0.46      0.52      0.49        21\n",
      "                Jobs       0.50      0.65      0.57        20\n",
      " LinkedIn comparison       0.55      0.55      0.55        11\n",
      "           Messenger       0.64      0.44      0.52        16\n",
      "        Notification       1.00      0.85      0.92        13\n",
      "     People/Homepage       0.61      0.74      0.67        31\n",
      "             Premium       0.32      0.55      0.40        11\n",
      "             Profile       0.44      0.47      0.45        15\n",
      " Reference to Groups       0.64      0.75      0.69        12\n",
      "              Upsell       0.14      0.10      0.12        10\n",
      "\n",
      "            accuracy                           0.52       359\n",
      "           macro avg       0.49      0.51      0.49       359\n",
      "        weighted avg       0.53      0.52      0.52       359\n",
      "\n"
     ]
    }
   ],
   "source": [
    "print(metrics.classification_report(y_test, LR_glove.predict(X_test)))"
   ]
  },
  {
   "cell_type": "code",
   "execution_count": null,
   "metadata": {},
   "outputs": [],
   "source": []
  }
 ],
 "metadata": {
  "kernelspec": {
   "display_name": "Python 3",
   "language": "python",
   "name": "python3"
  },
  "language_info": {
   "codemirror_mode": {
    "name": "ipython",
    "version": 3
   },
   "file_extension": ".py",
   "mimetype": "text/x-python",
   "name": "python",
   "nbconvert_exporter": "python",
   "pygments_lexer": "ipython3",
   "version": "3.9.6"
  },
  "orig_nbformat": 4
 },
 "nbformat": 4,
 "nbformat_minor": 2
}
